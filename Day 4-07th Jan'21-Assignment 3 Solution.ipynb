{
  "nbformat": 4,
  "nbformat_minor": 0,
  "metadata": {
    "colab": {
      "name": "Untitled57.ipynb",
      "provenance": [],
      "authorship_tag": "ABX9TyMz1hd7w1rGv03AQgiOfeJG",
      "include_colab_link": true
    },
    "kernelspec": {
      "name": "python3",
      "display_name": "Python 3"
    }
  },
  "cells": [
    {
      "cell_type": "markdown",
      "metadata": {
        "id": "view-in-github",
        "colab_type": "text"
      },
      "source": [
        "<a href=\"https://colab.research.google.com/github/harishvenkatram/LetsUpgrade-Python-Essentials-JAN-2021-Batch-1/blob/main/Day%204-07th%20Jan'21-Assignment%203%20Solution.ipynb\" target=\"_parent\"><img src=\"https://colab.research.google.com/assets/colab-badge.svg\" alt=\"Open In Colab\"/></a>"
      ]
    },
    {
      "cell_type": "code",
      "metadata": {
        "id": "KACDHzZ87iUs"
      },
      "source": [
        "#Question 1\r\n",
        "#Write a Python function to find the Max of three numbers.\r\n",
        "\r\n",
        "#Solution\r\n"
      ],
      "execution_count": null,
      "outputs": []
    },
    {
      "cell_type": "code",
      "metadata": {
        "id": "NMbtd07s7pee"
      },
      "source": [
        "#Question 2\r\n",
        "#Write a Python function that checks whether a passed string is palindrome or not\r\n",
        "\r\n",
        "#Solution\r\n"
      ],
      "execution_count": null,
      "outputs": []
    },
    {
      "cell_type": "code",
      "metadata": {
        "id": "FHTUw1Dj7pt9"
      },
      "source": [
        "#Question 3\r\n",
        "#Write a Python function that accepts a string and calculate the number of uppercase letters and\r\n",
        "#lowercase letters\r\n",
        "\r\n",
        "#Solution\r\n"
      ],
      "execution_count": null,
      "outputs": []
    },
    {
      "cell_type": "code",
      "metadata": {
        "id": "QRUow4IW7p_g"
      },
      "source": [
        "#Question 4\r\n",
        "#Write a Python function to sum all the numbers in a list\r\n",
        "\r\n",
        "#Solution"
      ],
      "execution_count": null,
      "outputs": []
    },
    {
      "cell_type": "code",
      "metadata": {
        "id": "ATgLXGLo7qOP"
      },
      "source": [
        "#Question 5\r\n",
        "#Write a Python function to multiply all the numbers in a list\r\n",
        "\r\n",
        "#Solution\r\n"
      ],
      "execution_count": null,
      "outputs": []
    },
    {
      "cell_type": "code",
      "metadata": {
        "id": "5HKEcnmq7qad"
      },
      "source": [
        "#Question 6\r\n",
        "#Write a Python function that takes a list and returns a new list with unique elements of the first list\r\n",
        "\r\n",
        "#Solution\r\n"
      ],
      "execution_count": null,
      "outputs": []
    }
  ]
}