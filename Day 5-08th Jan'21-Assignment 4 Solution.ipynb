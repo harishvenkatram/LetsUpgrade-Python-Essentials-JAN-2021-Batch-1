{
  "nbformat": 4,
  "nbformat_minor": 0,
  "metadata": {
    "colab": {
      "name": "Untitled58.ipynb",
      "provenance": [],
      "authorship_tag": "ABX9TyNBFicZ58VK4hYPKVXGVNdJ",
      "include_colab_link": true
    },
    "kernelspec": {
      "name": "python3",
      "display_name": "Python 3"
    }
  },
  "cells": [
    {
      "cell_type": "markdown",
      "metadata": {
        "id": "view-in-github",
        "colab_type": "text"
      },
      "source": [
        "<a href=\"https://colab.research.google.com/github/harishvenkatram/LetsUpgrade-Python-Essentials-JAN-2021-Batch-1/blob/main/Day%205-08th%20Jan'21-Assignment%204%20Solution.ipynb\" target=\"_parent\"><img src=\"https://colab.research.google.com/assets/colab-badge.svg\" alt=\"Open In Colab\"/></a>"
      ]
    },
    {
      "cell_type": "code",
      "metadata": {
        "id": "enBWRigrDTNm"
      },
      "source": [
        "#Project 1\r\n",
        "#Do the project - Develop a cryptography app in python.\r\n",
        "\r\n",
        "#Solution\r\n"
      ],
      "execution_count": null,
      "outputs": []
    },
    {
      "cell_type": "code",
      "metadata": {
        "id": "2LEQeJPqDZYJ"
      },
      "source": [
        "#Project 2\r\n",
        "#Do the project - Guess the movie name in python.\r\n",
        "\r\n",
        "#Solution\r\n"
      ],
      "execution_count": null,
      "outputs": []
    },
    {
      "cell_type": "code",
      "metadata": {
        "id": "YlRt2YqoDZgS"
      },
      "source": [
        "#Project 3\r\n",
        "#Do the project - Create an Instagram downloader as taught by sir using the command prompt and\r\n",
        "#take a screenshot of the command prompt put in a document and upload.\r\n",
        "\r\n",
        "#Solution\r\n"
      ],
      "execution_count": null,
      "outputs": []
    }
  ]
}