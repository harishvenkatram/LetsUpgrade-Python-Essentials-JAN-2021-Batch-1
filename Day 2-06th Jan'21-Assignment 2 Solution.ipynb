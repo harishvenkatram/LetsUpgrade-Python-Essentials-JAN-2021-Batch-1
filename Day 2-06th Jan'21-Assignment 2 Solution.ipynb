{
  "nbformat": 4,
  "nbformat_minor": 0,
  "metadata": {
    "colab": {
      "name": "Untitled56.ipynb",
      "provenance": [],
      "authorship_tag": "ABX9TyNxaOcdZXkU2cU9OvrpLBxF",
      "include_colab_link": true
    },
    "kernelspec": {
      "name": "python3",
      "display_name": "Python 3"
    }
  },
  "cells": [
    {
      "cell_type": "markdown",
      "metadata": {
        "id": "view-in-github",
        "colab_type": "text"
      },
      "source": [
        "<a href=\"https://colab.research.google.com/github/harishvenkatram/LetsUpgrade-Python-Essentials-JAN-2021-Batch-1/blob/main/Day%202-06th%20Jan'21-Assignment%202%20Solution.ipynb\" target=\"_parent\"><img src=\"https://colab.research.google.com/assets/colab-badge.svg\" alt=\"Open In Colab\"/></a>"
      ]
    },
    {
      "cell_type": "code",
      "metadata": {
        "id": "inqNkggwE7V_"
      },
      "source": [
        "#Question 1\r\n",
        "#Write a Python program to remove duplicates from a list\r\n",
        "\r\n",
        "#Solution\r\n"
      ],
      "execution_count": null,
      "outputs": []
    },
    {
      "cell_type": "code",
      "metadata": {
        "id": "5FztkNJuFHHX"
      },
      "source": [
        "#Question 2\r\n",
        "#Write a Python program to get the difference between the two lists\r\n",
        "\r\n",
        "#Solution\r\n"
      ],
      "execution_count": null,
      "outputs": []
    },
    {
      "cell_type": "code",
      "metadata": {
        "id": "fKPAF8_EFL7S"
      },
      "source": [
        "#Question 3\r\n",
        "#Write a Python program to get the frequency of the elements in a list\r\n",
        "\r\n",
        "#Solution\r\n"
      ],
      "execution_count": null,
      "outputs": []
    },
    {
      "cell_type": "code",
      "metadata": {
        "id": "lHLFb0XrFTPN"
      },
      "source": [
        "#Question 4\r\n",
        "#Write a Python program to compute the similarity between two lists.\r\n",
        "#Sample data: [\"red\", \"orange\", \"green\", \"blue\", \"white\"], [\"black\", \"yellow\", \"green\", \"blue\"]\r\n",
        "#Expected Output: Color1-Color2: ['white', 'orange', 'red']\r\n",
        "# Color2-Color1: ['black', 'yellow']\r\n",
        "\r\n",
        "#Solution\r\n"
      ],
      "execution_count": null,
      "outputs": []
    },
    {
      "cell_type": "code",
      "metadata": {
        "id": "GYGB3ttTFY3v"
      },
      "source": [
        "#Question 5\r\n",
        "#Write a Python function that takes a list of words and returns the length of the longest one\r\n",
        "\r\n",
        "#Solution\r\n"
      ],
      "execution_count": null,
      "outputs": []
    },
    {
      "cell_type": "code",
      "metadata": {
        "id": "kdMUU3rUFgm7"
      },
      "source": [
        "#Question 6\r\n",
        "#Write a Python program to count the occurrences of each word in a given sentence\r\n",
        "\r\n",
        "#Solution\r\n"
      ],
      "execution_count": null,
      "outputs": []
    },
    {
      "cell_type": "code",
      "metadata": {
        "id": "X3YZFf5eFlty"
      },
      "source": [
        "#Question 7\r\n",
        "#Write a Python program to count and display the vowels of a given text\r\n",
        "\r\n",
        "#Solution\r\n"
      ],
      "execution_count": null,
      "outputs": []
    },
    {
      "cell_type": "code",
      "metadata": {
        "id": "GEJtOIKyFquc"
      },
      "source": [
        "#Question 8\r\n",
        "#Write a Python script to generate and print a dictionary that contains a number (between 1 and n)\r\n",
        "#in the form (x, x*x)\r\n",
        "\r\n",
        "#Solution\r\n"
      ],
      "execution_count": null,
      "outputs": []
    },
    {
      "cell_type": "code",
      "metadata": {
        "id": "XI6i6LNqF2ET"
      },
      "source": [
        "#Question 9\r\n",
        "#Write a Python program to combine two dictionary adding values for common keys\r\n",
        "#● d1 = {'a': 100, 'b': 200, 'c':300}\r\n",
        "#● d2 = {'a': 300, 'b': 200, 'd':400}\r\n",
        "#● Sample output: Counter({'a': 400, 'b': 400, 'd': 400, 'c': 300})\r\n",
        "\r\n",
        "#Solution\r\n"
      ],
      "execution_count": null,
      "outputs": []
    },
    {
      "cell_type": "code",
      "metadata": {
        "id": "CzSHom56F8Mg"
      },
      "source": [
        "#Question 10\r\n",
        "#Write a Python program to print all unique values in a dictionary\r\n",
        "#● Sample Data : [{\"V\":\"S001\"}, {\"V\": \"S002\"}, {\"VI\": \"S001\"}, {\"VI\": \"S005\"}, {\"VII\":\"S005\"},\r\n",
        "# {\"V\":\"S009\"},{\"VIII\":\"S007\"}]\r\n",
        "#● Expected Output : Unique Values: {'S005', 'S002', 'S007', 'S001', 'S009'}\r\n",
        "\r\n",
        "#Solution\r\n"
      ],
      "execution_count": null,
      "outputs": []
    }
  ]
}