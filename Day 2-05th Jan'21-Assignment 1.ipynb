{
  "nbformat": 4,
  "nbformat_minor": 0,
  "metadata": {
    "colab": {
      "name": "Untitled55.ipynb",
      "provenance": []
    },
    "kernelspec": {
      "name": "python3",
      "display_name": "Python 3"
    }
  },
  "cells": [
    {
      "cell_type": "code",
      "metadata": {
        "id": "6tjiMNbrcupD"
      },
      "source": [
        "#Questions 1\r\n",
        "#Find the value of the following questions, Where x=5\r\n",
        "#(2x+5/x^2+5x+6)\r\n",
        "#(x^2+5x+6/2x+5)\r\n",
        "#(2x-3)(x-9)\r\n",
        "\r\n",
        "#Solution\r\n"
      ],
      "execution_count": null,
      "outputs": []
    },
    {
      "cell_type": "code",
      "metadata": {
        "id": "GOv1-thUlLxD"
      },
      "source": [
        "#Questions 2\r\n",
        "#Create a username and password login file using nested while loop\r\n",
        "\r\n",
        "#Solution"
      ],
      "execution_count": null,
      "outputs": []
    }
  ]
}