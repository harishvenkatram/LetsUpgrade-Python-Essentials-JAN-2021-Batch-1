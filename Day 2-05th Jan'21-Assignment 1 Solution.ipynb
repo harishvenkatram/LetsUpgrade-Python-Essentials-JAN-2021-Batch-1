{
  "nbformat": 4,
  "nbformat_minor": 0,
  "metadata": {
    "colab": {
      "name": "Untitled55.ipynb",
      "provenance": [],
      "authorship_tag": "ABX9TyM0u14bQPP2Vw07Ngz3eCfy",
      "include_colab_link": true
    },
    "kernelspec": {
      "name": "python3",
      "display_name": "Python 3"
    }
  },
  "cells": [
    {
      "cell_type": "markdown",
      "metadata": {
        "id": "view-in-github",
        "colab_type": "text"
      },
      "source": [
        "<a href=\"https://colab.research.google.com/github/harishvenkatram/LetsUpgrade-Python-Essentials-JAN-2021-Batch-1/blob/main/Day%202-05th%20Jan'21-Assignment%201%20Solution.ipynb\" target=\"_parent\"><img src=\"https://colab.research.google.com/assets/colab-badge.svg\" alt=\"Open In Colab\"/></a>"
      ]
    },
    {
      "cell_type": "code",
      "metadata": {
        "colab": {
          "base_uri": "https://localhost:8080/"
        },
        "id": "6tjiMNbrcupD",
        "outputId": "1c82537e-7429-47dc-82f2-fb4ef6cabce7"
      },
      "source": [
        "#Questions 1\r\n",
        "#Find the value of the following questions, Where x=5\r\n",
        "#(2x+5/x^2+5x+6)\r\n",
        "#(x^2+5x+6/2x+5)\r\n",
        "#(2x-3)(x-9)\r\n",
        "\r\n",
        "#Solution\r\n",
        "x=5\r\n",
        "Equation_1=(2*x+5)/(x**2+5*x+6)\r\n",
        "Equation_2=(x**2+5*x+6)/(2*x+5)\r\n",
        "Equation_3=(2*x-3)*(x-9)\r\n",
        "print (Equation_1)\r\n",
        "print (Equation_2)\r\n",
        "print (Equation_3)"
      ],
      "execution_count": 3,
      "outputs": [
        {
          "output_type": "stream",
          "text": [
            "0.26785714285714285\n",
            "3.7333333333333334\n",
            "-28\n"
          ],
          "name": "stdout"
        }
      ]
    },
    {
      "cell_type": "code",
      "metadata": {
        "colab": {
          "base_uri": "https://localhost:8080/"
        },
        "id": "GOv1-thUlLxD",
        "outputId": "34c8ff16-714f-4cfb-a596-f7e962d4c9d6"
      },
      "source": [
        "#Questions 2\r\n",
        "#Create a username and password login file using nested while loop\r\n",
        "\r\n",
        "#Solution\r\n",
        "username='letsupgrade'\r\n",
        "password='India'\r\n",
        "username_input=input('Enter the Username: ')\r\n",
        "password_input=input('Enter the Password: ')\r\n",
        "while(username==username_input):\r\n",
        "  while(password==password_input):\r\n",
        "    print('Welcome!')\r\n",
        "    break\r\n",
        "  else:\r\n",
        "    print('Incorrect Password: Kindly check the password entered')\r\n",
        "  break\r\n",
        "else:\r\n",
        "  print('Incorrect Username: Kindly check the Username entered')"
      ],
      "execution_count": 10,
      "outputs": [
        {
          "output_type": "stream",
          "text": [
            "Enter the Username: letsupgrade\n",
            "Enter the Password: India\n",
            "Welcome!\n"
          ],
          "name": "stdout"
        }
      ]
    }
  ]
}